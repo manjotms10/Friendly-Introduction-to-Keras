{
 "cells": [
  {
   "cell_type": "markdown",
   "metadata": {},
   "source": [
    "# Introduction to Keras Framework"
   ]
  },
  {
   "cell_type": "markdown",
   "metadata": {},
   "source": [
    "To glance:\n",
    "    - Perceptron\n",
    "    - Deep Neural Networks\n",
    "    - Convolutional Neural Networks"
   ]
  },
  {
   "cell_type": "markdown",
   "metadata": {},
   "source": [
    "Import all Necessary modules"
   ]
  },
  {
   "cell_type": "code",
   "execution_count": 5,
   "metadata": {},
   "outputs": [],
   "source": [
    "from __future__ import print_function\n",
    "\n",
    "import keras\n",
    "from keras.datasets import mnist\n",
    "from keras.models import Sequential\n",
    "from keras.layers import Dense, Dropout\n",
    "from keras.optimizers import RMSprop"
   ]
  },
  {
   "cell_type": "markdown",
   "metadata": {},
   "source": [
    "Some Hyperparameters which might/might-not require tuning"
   ]
  },
  {
   "cell_type": "code",
   "execution_count": 6,
   "metadata": {},
   "outputs": [],
   "source": [
    "batch_size = 128\n",
    "num_classes = 10\n",
    "epochs = 20"
   ]
  },
  {
   "cell_type": "markdown",
   "metadata": {},
   "source": [
    "Load Train and Test Data"
   ]
  },
  {
   "cell_type": "code",
   "execution_count": 7,
   "metadata": {},
   "outputs": [
    {
     "name": "stdout",
     "output_type": "stream",
     "text": [
      "Downloading data from https://s3.amazonaws.com/img-datasets/mnist.npz\n",
      "11493376/11490434 [==============================] - 54s 5us/step\n"
     ]
    }
   ],
   "source": [
    "(x_train, y_train), (x_test, y_test) = mnist.load_data()"
   ]
  },
  {
   "cell_type": "markdown",
   "metadata": {},
   "source": [
    "* Some very Basic Pre-Processing.\n",
    "* We need to cross-check dimensions at each layer.\n",
    "* Clearly specify the output Dimensions (Should have the same shape as the Training and Testing Class Labels)."
   ]
  },
  {
   "cell_type": "code",
   "execution_count": 8,
   "metadata": {},
   "outputs": [
    {
     "name": "stdout",
     "output_type": "stream",
     "text": [
      "60000 train samples\n",
      "10000 test samples\n"
     ]
    }
   ],
   "source": [
    "x_train = x_train.reshape(60000, 784)\n",
    "x_test = x_test.reshape(10000, 784)\n",
    "x_train = x_train.astype('float32')\n",
    "x_test = x_test.astype('float32')\n",
    "x_train /= 255\n",
    "x_test /= 255\n",
    "print(x_train.shape[0], 'train samples')\n",
    "print(x_test.shape[0], 'test samples')\n",
    "\n",
    "# convert class vectors to binary class matrices\n",
    "y_train = keras.utils.to_categorical(y_train, num_classes)\n",
    "y_test = keras.utils.to_categorical(y_test, num_classes)"
   ]
  },
  {
   "cell_type": "markdown",
   "metadata": {},
   "source": [
    "# Define the Architecture\n",
    "* Use the Keras Sequential (models.sequential) or Functional API (models.model)\n",
    "* Define number of hidden neurons and size of each layer\n",
    "* Define Activation Functions for each layer\n",
    "* Define Initializers for each Layer\n",
    "* Add layers like BatchNormalization/ Dropout to accomodate regularization"
   ]
  },
  {
   "cell_type": "code",
   "execution_count": 9,
   "metadata": {},
   "outputs": [
    {
     "name": "stdout",
     "output_type": "stream",
     "text": [
      "_________________________________________________________________\n",
      "Layer (type)                 Output Shape              Param #   \n",
      "=================================================================\n",
      "dense_1 (Dense)              (None, 512)               401920    \n",
      "_________________________________________________________________\n",
      "dropout_1 (Dropout)          (None, 512)               0         \n",
      "_________________________________________________________________\n",
      "dense_2 (Dense)              (None, 512)               262656    \n",
      "_________________________________________________________________\n",
      "dropout_2 (Dropout)          (None, 512)               0         \n",
      "_________________________________________________________________\n",
      "dense_3 (Dense)              (None, 10)                5130      \n",
      "=================================================================\n",
      "Total params: 669,706\n",
      "Trainable params: 669,706\n",
      "Non-trainable params: 0\n",
      "_________________________________________________________________\n"
     ]
    }
   ],
   "source": [
    "model = Sequential()\n",
    "model.add(Dense(512, activation='relu', input_shape=(784,)))\n",
    "model.add(Dropout(0.2))\n",
    "model.add(Dense(512, activation='relu'))\n",
    "model.add(Dropout(0.2))\n",
    "model.add(Dense(num_classes, activation='softmax'))\n",
    "\n",
    "model.summary()"
   ]
  },
  {
   "cell_type": "markdown",
   "metadata": {},
   "source": [
    "# Optimizers\n",
    "* Once you pass data (say one-batch of your training set), you need to update weights and biases according to the gradients computed on the loss function\n",
    "* There are optimizers like RMSProp and Adam which use adaptive learning rates\n",
    "\n",
    "# Loss Function\n",
    "* After each pass, define how the loss would be computed\n",
    "* categorical-crossentropy works really great with classification problems (Given that your labels are one-hot encoded)"
   ]
  },
  {
   "cell_type": "code",
   "execution_count": 10,
   "metadata": {},
   "outputs": [],
   "source": [
    "model.compile(loss='categorical_crossentropy',\n",
    "              optimizer=RMSprop(),\n",
    "              metrics=['accuracy'])"
   ]
  },
  {
   "cell_type": "markdown",
   "metadata": {},
   "source": [
    "# Training\n",
    "* Train the data on Training Set\n",
    "* We can also provide validation data to see how the model is performing"
   ]
  },
  {
   "cell_type": "code",
   "execution_count": 11,
   "metadata": {},
   "outputs": [
    {
     "name": "stdout",
     "output_type": "stream",
     "text": [
      "Train on 60000 samples, validate on 10000 samples\n",
      "Epoch 1/20\n",
      "60000/60000 [==============================] - 16s 260us/step - loss: 0.2463 - acc: 0.9236 - val_loss: 0.0971 - val_acc: 0.9698\n",
      "Epoch 2/20\n",
      "60000/60000 [==============================] - 15s 250us/step - loss: 0.1024 - acc: 0.9696 - val_loss: 0.0938 - val_acc: 0.9700\n",
      "Epoch 3/20\n",
      "60000/60000 [==============================] - 17s 285us/step - loss: 0.0741 - acc: 0.9775 - val_loss: 0.0757 - val_acc: 0.9772\n",
      "Epoch 4/20\n",
      "60000/60000 [==============================] - 17s 284us/step - loss: 0.0608 - acc: 0.9814 - val_loss: 0.0849 - val_acc: 0.9777\n",
      "Epoch 5/20\n",
      "60000/60000 [==============================] - 16s 269us/step - loss: 0.0509 - acc: 0.9844 - val_loss: 0.0701 - val_acc: 0.9812\n",
      "Epoch 6/20\n",
      "60000/60000 [==============================] - 16s 264us/step - loss: 0.0436 - acc: 0.9872 - val_loss: 0.0773 - val_acc: 0.9810\n",
      "Epoch 7/20\n",
      "60000/60000 [==============================] - 16s 266us/step - loss: 0.0382 - acc: 0.9888 - val_loss: 0.0650 - val_acc: 0.9831\n",
      "Epoch 8/20\n",
      "60000/60000 [==============================] - 17s 277us/step - loss: 0.0340 - acc: 0.9905 - val_loss: 0.0830 - val_acc: 0.9816\n",
      "Epoch 9/20\n",
      "60000/60000 [==============================] - 18s 294us/step - loss: 0.0313 - acc: 0.9910 - val_loss: 0.0813 - val_acc: 0.9839\n",
      "Epoch 10/20\n",
      "60000/60000 [==============================] - 16s 271us/step - loss: 0.0309 - acc: 0.9912 - val_loss: 0.0793 - val_acc: 0.9832\n",
      "Epoch 11/20\n",
      "60000/60000 [==============================] - 18s 302us/step - loss: 0.0280 - acc: 0.9925 - val_loss: 0.0906 - val_acc: 0.9818\n",
      "Epoch 12/20\n",
      "60000/60000 [==============================] - 18s 306us/step - loss: 0.0255 - acc: 0.9929 - val_loss: 0.0951 - val_acc: 0.9833\n",
      "Epoch 13/20\n",
      "60000/60000 [==============================] - 16s 274us/step - loss: 0.0237 - acc: 0.9937 - val_loss: 0.1010 - val_acc: 0.9811\n",
      "Epoch 14/20\n",
      "60000/60000 [==============================] - 16s 272us/step - loss: 0.0219 - acc: 0.9940 - val_loss: 0.1066 - val_acc: 0.9809\n",
      "Epoch 15/20\n",
      "60000/60000 [==============================] - 16s 265us/step - loss: 0.0204 - acc: 0.9943 - val_loss: 0.0968 - val_acc: 0.9814\n",
      "Epoch 16/20\n",
      "60000/60000 [==============================] - 16s 263us/step - loss: 0.0217 - acc: 0.9942 - val_loss: 0.0989 - val_acc: 0.9832\n",
      "Epoch 17/20\n",
      "60000/60000 [==============================] - 16s 259us/step - loss: 0.0190 - acc: 0.9948 - val_loss: 0.1019 - val_acc: 0.9845\n",
      "Epoch 18/20\n",
      "60000/60000 [==============================] - 17s 276us/step - loss: 0.0186 - acc: 0.9954 - val_loss: 0.1095 - val_acc: 0.9833\n",
      "Epoch 19/20\n",
      "60000/60000 [==============================] - 15s 258us/step - loss: 0.0170 - acc: 0.9956 - val_loss: 0.1016 - val_acc: 0.9842\n",
      "Epoch 20/20\n",
      "60000/60000 [==============================] - 16s 261us/step - loss: 0.0191 - acc: 0.9952 - val_loss: 0.1195 - val_acc: 0.9830\n"
     ]
    }
   ],
   "source": [
    "history = model.fit(x_train, y_train,\n",
    "                    batch_size=batch_size,\n",
    "                    epochs=epochs,\n",
    "                    verbose=1,\n",
    "                    validation_data=(x_test, y_test))\n"
   ]
  },
  {
   "cell_type": "markdown",
   "metadata": {},
   "source": [
    "# Testing\n",
    "* Evaluate on the test set\n",
    "* model.evaluate API returns the loss and an array of metrics defined while compiling the model"
   ]
  },
  {
   "cell_type": "code",
   "execution_count": null,
   "metadata": {},
   "outputs": [],
   "source": [
    "score = model.evaluate(x_test, y_test, verbose=0)\n",
    "print('Test loss:', score[0])\n",
    "print('Test accuracy:', score[1])"
   ]
  }
 ],
 "metadata": {
  "kernelspec": {
   "display_name": "Python 3",
   "language": "python",
   "name": "python3"
  },
  "language_info": {
   "codemirror_mode": {
    "name": "ipython",
    "version": 3
   },
   "file_extension": ".py",
   "mimetype": "text/x-python",
   "name": "python",
   "nbconvert_exporter": "python",
   "pygments_lexer": "ipython3",
   "version": "3.6.4"
  }
 },
 "nbformat": 4,
 "nbformat_minor": 2
}
